{
  "nbformat": 4,
  "nbformat_minor": 0,
  "metadata": {
    "colab": {
      "provenance": []
    },
    "kernelspec": {
      "name": "python3",
      "display_name": "Python 3"
    },
    "language_info": {
      "name": "python"
    }
  },
  "cells": [
    {
      "cell_type": "code",
      "source": [
        "!pip install pdfplumber sumy"
      ],
      "metadata": {
        "id": "c66iAM2Qfi19"
      },
      "execution_count": null,
      "outputs": []
    },
    {
      "cell_type": "code",
      "execution_count": null,
      "metadata": {
        "colab": {
          "base_uri": "https://localhost:8080/",
          "height": 192
        },
        "id": "Bxe-_UoZb4Mn",
        "outputId": "46583bd9-ed5f-4c94-816e-aec0cd715d5e"
      },
      "outputs": [
        {
          "output_type": "stream",
          "name": "stderr",
          "text": [
            "[nltk_data] Downloading package punkt to /root/nltk_data...\n",
            "[nltk_data]   Package punkt is already up-to-date!\n"
          ]
        },
        {
          "output_type": "stream",
          "name": "stdout",
          "text": [
            "Word Count: 490 words\n"
          ]
        },
        {
          "output_type": "execute_result",
          "data": {
            "text/plain": [
              "' Operations management covers the responsibility over all processes that involve the production of goods and services as well as the delivery of such productions to the final consumers.For the finished goods or offered services to be available to consumers in a state that will satisfy the needs and desires of the consumers, measures must be undertaken by the producing organization to ensure that quality, quantity as well as the time frame of the production is appropriate with respect to the demands of consumers.Processes of activities such as extraction of raw materials or resources, their transportation, their processing and their final distribution involve operational activities.In the management of production activities, operations changes were, for example, realized in the labor system.Factors Affecting Development of Operations Management Operations management has, along its, history been characterized with a lot of changes that have ensured its evolution over time to its current level.Approaches to planning and designing of operation processes have also been transformed by developments in technology.These among other established principles in the operation processes are elements of operations management (Bruner 140).Under its role as an organizer, the management outlines the activities to be done as well as when such activities are to be undertaken.According to Elearn, planning and control is a necessity for the operations management following the process of designing operations in an organization.One of the functions of the operations managers is the management of human resource.Strategies in operations management are therefore those approaches that are implemented by the management in its functions such as planning, organization and control among others.Considerations such as the manner in which the management will supply the products of the organization, the level of expertise that will be required in the production processes, the levels of flexibilities that will be involved in operations among others are made prior to establishment of strategies.Strategies therefore provides for the identification of steps that needs to be taken by the management and the implementation of such steps to the attainment of the objectives and functions of operations management (Lowson 42).Operations management also outlines strategies for controlling production costs of its processes which is made through provisions for the production chain.Strategies can also be applied to production processes and programs as well as the management of human resource.The satisfaction of customers can be realized from two perspectives: costs of the good or service offered to the customer and the delivery of such products in time as demanded for by the customers.Objectives are then made and pursued on how best customers can be kept satisfied with the organization’s products and at the same time, resources into productions are organized at cost that are reduced to minimum possible levels.The demand for better service by customers that has been triggered by developments in technology and increased range of products in markets has also pushed for the need for every organization to focus on its performance in order to strike a balance in the equation.'"
            ],
            "application/vnd.google.colaboratory.intrinsic+json": {
              "type": "string"
            }
          },
          "metadata": {},
          "execution_count": 13
        }
      ],
      "source": [
        "import pdfplumber\n",
        "import nltk\n",
        "nltk.download('punkt')\n",
        "from sumy.parsers.plaintext import PlaintextParser\n",
        "from sumy.nlp.tokenizers import Tokenizer\n",
        "from sumy.summarizers.lex_rank import LexRankSummarizer\n",
        "\n",
        "input = ''\n",
        "with pdfplumber.open('/content/Operations Management.pdf') as pdf:\n",
        "    # Access individual pages\n",
        "    for i in range(0,15):\n",
        "        pg = pdf.pages\n",
        "        text = pg[i].extract_text()\n",
        "        input += text\n",
        "\n",
        "sum = ' '\n",
        "\n",
        "parser = PlaintextParser.from_string(input, Tokenizer(\"english\"))\n",
        "summarizer = LexRankSummarizer()\n",
        "summary = summarizer(parser.document, sentences_count= 18)\n",
        "\n",
        "for sentence in summary:\n",
        "    sum += str(sentence)\n",
        "\n",
        "file1 = open('Summary.txt','w')\n",
        "file1.writelines(sum)\n",
        "# print(f'Summary:{sum}')\n",
        "x = len(sum.split(' '))\n",
        "print(f'Word Count: {x} words')\n",
        "sum"
      ]
    }
  ]
}